{
 "cells": [
  {
   "cell_type": "code",
   "execution_count": null,
   "id": "787c1eb3",
   "metadata": {},
   "outputs": [],
   "source": [
    "import json\n",
    "import re\n",
    "\n",
    "with open(\"train_data.json\", \"r\", encoding=\"utf-8\") as f:\n",
    "    data = json.load(f)\n",
    "\n",
    "def extraer_numero(meme_id):\n",
    "    match = re.search(r'(\\d+)', meme_id)\n",
    "    return int(match.group(1)) if match else 0\n",
    "\n",
    "datos_ordenados = sorted(data, key=lambda x: extraer_numero(x[\"MEME-ID\"]))\n",
    "\n",
    "with open(\"train_data_sorted.json\", \"w\", encoding=\"utf-8\") as f:\n",
    "    json.dump(datos_ordenados, f, indent=4, ensure_ascii=False)\n",
    "    "
   ]
  }
 ],
 "metadata": {
  "language_info": {
   "name": "python"
  }
 },
 "nbformat": 4,
 "nbformat_minor": 5
}
